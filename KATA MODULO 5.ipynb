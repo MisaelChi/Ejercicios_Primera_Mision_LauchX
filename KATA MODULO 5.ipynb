{
 "cells": [
  {
   "cell_type": "markdown",
   "metadata": {},
   "source": [
    "# Ejercicio1 - Utilizar operadores aritméticos\n",
    "Operadores aritméticos en Python\n",
    "Python proporciona operadores aritméticos comunes para que puedas realizar operaciones matemáticas en tu código. Estos incluyen las cuatro operaciones principales de suma, resta, multiplicación y división.\n",
    "\n",
    "Exploremos cómo podemos crear un programa que pueda calcular la distancia entre dos planetas. Comenzaremos usando dos distancias de planetas: Tierra (149.597.870 km) y Júpiter (778.547.200 km).\n",
    "\n",
    "TIP Dedica unos minutos a tratar de encontrar una solución. Luego desplázate hacia abajo hasta la parte inferior para ver si has logrado compilar el programa de acuerdo con las especificaciones.\n",
    "\n",
    "Nota: Quita las comas cuando uses los valores."
   ]
  },
  {
   "cell_type": "code",
   "execution_count": 13,
   "metadata": {},
   "outputs": [
    {
     "name": "stdout",
     "output_type": "stream",
     "text": [
      "Suma de distancias = 628949330 Km , Resta de distancias = 628949330 Km , División de distacias = 5.204266611550017 , Multiplicación de distancias = 116469002814464000 Km\n"
     ]
    }
   ],
   "source": [
    "# Crear variables para almacenar las dos distancias\n",
    "# ¡Asegúrate de quitar las comas!\n",
    "\n",
    "distance_tierra =  149597870\n",
    "distance_jupiter =  778547200\n",
    "\n",
    "suma = distance_jupiter - distance_tierra\n",
    "resta = distance_jupiter - distance_tierra\n",
    "divi = distance_jupiter / distance_tierra\n",
    "mult = distance_jupiter * distance_tierra\n",
    "\n",
    "print('Suma de distancias =', str(suma), 'Km', ', Resta de distancias =', str(resta), 'Km', ', División de distacias =', str(divi), ', Multiplicación de distancias =', str(mult), 'Km')\n"
   ]
  },
  {
   "cell_type": "markdown",
   "metadata": {},
   "source": [
    "# Realizar la operación\n",
    "Con los valores obtenidos, es el momento de añadir el código para realizar la operación. Restarás el primer planeta del segundo para determinar la distancia en kilómetros. A continuación, puedes convertir la distancia del kilómetro en millas multiplicándola por 0.621."
   ]
  },
  {
   "cell_type": "code",
   "execution_count": 14,
   "metadata": {},
   "outputs": [
    {
     "name": "stdout",
     "output_type": "stream",
     "text": [
      "Distancia en Kilometros = 628949330 Km y distancia en Millas = 390577533.93 miles\n"
     ]
    }
   ],
   "source": [
    "# Determinar la distancia entre los dos planetas\n",
    "# Convertirlo a millas\n",
    "distance_tierra =  149597870\n",
    "distance_jupiter =  778547200\n",
    "\n",
    "d_entre_planetas = distance_jupiter - distance_tierra\n",
    "d_millas = d_entre_planetas * 0.621\n",
    "\n",
    "print('Distancia en Kilometros =', str(d_entre_planetas), 'Km', 'y distancia en Millas =', str(d_millas), 'miles')"
   ]
  },
  {
   "cell_type": "markdown",
   "metadata": {},
   "source": [
    "# Ejercicio 2: convierte cadenas en números y usa valores absolutos\n",
    "Crear una aplicación para trabajar con números y entrada de usuario\n",
    "Con frecuencia, deberás convertir los valores de cadena en números para realizar correctamente diferentes operaciones o determinar el valor absoluto de un número.\n",
    "\n",
    "Para crear nuestra aplicación, queremos leer la distancia del sol para dos planetas, y luego mostrar la distancia entre los planetas. Haremos esto usando input para leer los valores, int para convertir a entero y luego abs para convertir el resultado en su valor absoluto."
   ]
  },
  {
   "cell_type": "code",
   "execution_count": 15,
   "metadata": {},
   "outputs": [
    {
     "name": "stdout",
     "output_type": "stream",
     "text": [
      "Bienvenido al calculador de distancias planetario\n",
      "mercurio = 57900000\n",
      "venus = 108200000\n",
      "tierra = 149600000\n",
      "marte = 227900000\n",
      "jupiter = 778600000\n",
      "saturno\t= 1433500000\n",
      "urano = 2872500000\n",
      "neptuno = 4495100000\n",
      "Elija sus distancias por favor\n",
      "La distancia de los planetas deseados es de = 3061600000 Km Distancia de los planetas deseados en millas = 1901253600.0 Millas\n"
     ]
    }
   ],
   "source": [
    "# Lee los valores\n",
    "# Usando input, agrega el código para leer la distancia del sol para cada planeta, considerando 2 planetas.\n",
    "# Almacenar las entradas del usuario\n",
    "# Pista: variable = input(\"¿Cuál es tu nombre?\")\n",
    "\n",
    "\n",
    "\n",
    "print('Bienvenido al calculador de distancias planetario')\n",
    "print('mercurio = 57900000')\n",
    "print('venus = 108200000')\n",
    "print('tierra = 149600000')\n",
    "print('marte = 227900000')\n",
    "print('jupiter = 778600000')\n",
    "print('saturno\t= 1433500000')\n",
    "print('urano = 2872500000')\n",
    "print('neptuno = 4495100000')\n",
    "print('Elija sus distancias por favor')\n",
    "\n",
    "primer_valor = int(input('Introduzca el primer planeta'))\n",
    "segundo_valor = int(input('Introduzca el segundo planeta'))\n",
    "\n",
    "diferencia = primer_valor - segundo_valor\n",
    "diferencia_m = diferencia * 0.621\n",
    "print('La distancia de los planetas deseados es de =', str(abs(diferencia)), 'Km', 'Distancia de los planetas deseados en millas =', str(abs(diferencia_m)), 'Millas')\n",
    "\n",
    "\n"
   ]
  }
 ],
 "metadata": {
  "interpreter": {
   "hash": "b89b5cfaba6639976dc87ff2fec6d58faec662063367e2c229c520fe71072417"
  },
  "kernelspec": {
   "display_name": "Python 3.10.2 64-bit",
   "language": "python",
   "name": "python3"
  },
  "language_info": {
   "codemirror_mode": {
    "name": "ipython",
    "version": 3
   },
   "file_extension": ".py",
   "mimetype": "text/x-python",
   "name": "python",
   "nbconvert_exporter": "python",
   "pygments_lexer": "ipython3",
   "version": "3.10.2"
  },
  "orig_nbformat": 4
 },
 "nbformat": 4,
 "nbformat_minor": 2
}
